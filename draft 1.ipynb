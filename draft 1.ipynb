{
 "cells": [
  {
   "cell_type": "markdown",
   "id": "899a6bf6",
   "metadata": {},
   "source": [
    "##Scientific question: Since the immunization with M. vaccae NCTC 11659 prevented stress-induced increases in IL-6 protein or IL6 mRNA expression in mice,  is it possible that M. vaccae NCTC 11659 can prevent stress-induced increases in human IL-6 protein? "
   ]
  },
  {
   "cell_type": "markdown",
   "id": "1321f193",
   "metadata": {},
   "source": [
    "Background: Interleukin 6 (IL-6), promptly and transiently produced in response to infections and tissue injuries, contributes to host defense through the stimulation of acute phase responses, hematopoiesis, and immune reactions.(Tanaka et al 2014)\n",
    "\n",
    "Despite a high degree of sequence similarity (42%) the human and mouse IL-6 polypeptides display distinct species-specific activities. Although human IL-6 (hIL-6) is active in both human and mouse cell assays, mouse IL-6 (mIL-6) is not active on human cells. (Hammacher, A et al 1994)"
   ]
  },
  {
   "cell_type": "markdown",
   "id": "1c2de602",
   "metadata": {},
   "source": [
    "Scientific hypothesis :If the human IL-6 protein is similar to the murine IL-6 protein, the M. vaccae NCTC 11659 may be able to prevent stress-induced increases in IL-6 protein or IL6 mRNA expression in humans. "
   ]
  },
  {
   "cell_type": "markdown",
   "id": "1daa1b44",
   "metadata": {},
   "source": [
    "Heatmap and 3D struture were be used to visualize the similarities and differences of the structure of human IL-6 and mice IL-6's sequence. \n",
    "I searched the 3D and 2D structure of human IL-6(1ALU) and mice IL-6(2L3Y) in NCBI and the ligand binding site with NCTC11659 can be compared.\n",
    "\n",
    "The FASTA Sequence from protein databank can also show the structure difference. \n",
    "\n"
   ]
  },
  {
   "cell_type": "code",
   "execution_count": 30,
   "id": "c3de572a",
   "metadata": {},
   "outputs": [
    {
     "name": "stdout",
     "output_type": "stream",
     "text": [
      "Collecting Bio\n",
      "  Downloading bio-1.3.9-py3-none-any.whl (270 kB)\n",
      "\u001b[K     |████████████████████████████████| 270 kB 2.8 MB/s eta 0:00:01\n",
      "\u001b[?25hCollecting biopython>=1.79\n",
      "  Downloading biopython-1.79-cp39-cp39-macosx_10_9_x86_64.whl (2.3 MB)\n",
      "\u001b[K     |████████████████████████████████| 2.3 MB 50.1 MB/s eta 0:00:01\n",
      "\u001b[?25hCollecting mygene\n",
      "  Downloading mygene-3.2.2-py2.py3-none-any.whl (5.4 kB)\n",
      "Requirement already satisfied: tqdm in ./opt/anaconda3/lib/python3.9/site-packages (from Bio) (4.62.3)\n",
      "Requirement already satisfied: requests in ./opt/anaconda3/lib/python3.9/site-packages (from Bio) (2.26.0)\n",
      "Requirement already satisfied: numpy in ./opt/anaconda3/lib/python3.9/site-packages (from biopython>=1.79->Bio) (1.20.3)\n",
      "Collecting biothings-client>=0.2.6\n",
      "  Downloading biothings_client-0.2.6-py2.py3-none-any.whl (37 kB)\n",
      "Requirement already satisfied: urllib3<1.27,>=1.21.1 in ./opt/anaconda3/lib/python3.9/site-packages (from requests->Bio) (1.26.7)\n",
      "Requirement already satisfied: charset-normalizer~=2.0.0 in ./opt/anaconda3/lib/python3.9/site-packages (from requests->Bio) (2.0.4)\n",
      "Requirement already satisfied: idna<4,>=2.5 in ./opt/anaconda3/lib/python3.9/site-packages (from requests->Bio) (3.2)\n",
      "Requirement already satisfied: certifi>=2017.4.17 in ./opt/anaconda3/lib/python3.9/site-packages (from requests->Bio) (2021.10.8)\n",
      "Installing collected packages: biothings-client, mygene, biopython, Bio\n",
      "Successfully installed Bio-1.3.9 biopython-1.79 biothings-client-0.2.6 mygene-3.2.2\n",
      "Note: you may need to restart the kernel to use updated packages.\n"
     ]
    }
   ],
   "source": [
    "pip install Bio"
   ]
  },
  {
   "cell_type": "code",
   "execution_count": 28,
   "id": "ff8920e1",
   "metadata": {},
   "outputs": [],
   "source": [
    "import os\n",
    "from urllib.request import urlretrieve\n",
    "import gzip\n",
    "import matplotlib.pyplot as plt\n",
    "import numpy as np\n",
    "from pyteomics import fasta, parser, mass, achrom, electrochem, auxiliary"
   ]
  },
  {
   "cell_type": "code",
   "execution_count": 10,
   "id": "70a4f1e5",
   "metadata": {},
   "outputs": [
    {
     "name": "stdout",
     "output_type": "stream",
     "text": [
      "Requirement already satisfied: bioinfokit in ./opt/anaconda3/lib/python3.9/site-packages (2.0.8)\n",
      "Requirement already satisfied: scipy in ./opt/anaconda3/lib/python3.9/site-packages (from bioinfokit) (1.7.1)\n",
      "Requirement already satisfied: statsmodels in ./opt/anaconda3/lib/python3.9/site-packages (from bioinfokit) (0.12.2)\n",
      "Requirement already satisfied: textwrap3 in ./opt/anaconda3/lib/python3.9/site-packages (from bioinfokit) (0.9.2)\n",
      "Requirement already satisfied: pandas in ./opt/anaconda3/lib/python3.9/site-packages (from bioinfokit) (1.3.4)\n",
      "Requirement already satisfied: tabulate in ./opt/anaconda3/lib/python3.9/site-packages (from bioinfokit) (0.8.9)\n",
      "Requirement already satisfied: scikit-learn in ./opt/anaconda3/lib/python3.9/site-packages (from bioinfokit) (0.24.2)\n",
      "Requirement already satisfied: matplotlib in ./opt/anaconda3/lib/python3.9/site-packages (from bioinfokit) (3.4.3)\n",
      "Requirement already satisfied: seaborn in ./opt/anaconda3/lib/python3.9/site-packages (from bioinfokit) (0.11.2)\n",
      "Requirement already satisfied: matplotlib-venn in ./opt/anaconda3/lib/python3.9/site-packages (from bioinfokit) (0.11.7)\n",
      "Requirement already satisfied: adjustText in ./opt/anaconda3/lib/python3.9/site-packages (from bioinfokit) (0.7.3)\n",
      "Requirement already satisfied: numpy in ./opt/anaconda3/lib/python3.9/site-packages (from bioinfokit) (1.20.3)\n",
      "Requirement already satisfied: pyparsing>=2.2.1 in ./opt/anaconda3/lib/python3.9/site-packages (from matplotlib->bioinfokit) (3.0.4)\n",
      "Requirement already satisfied: pillow>=6.2.0 in ./opt/anaconda3/lib/python3.9/site-packages (from matplotlib->bioinfokit) (8.4.0)\n",
      "Requirement already satisfied: cycler>=0.10 in ./opt/anaconda3/lib/python3.9/site-packages (from matplotlib->bioinfokit) (0.10.0)\n",
      "Requirement already satisfied: kiwisolver>=1.0.1 in ./opt/anaconda3/lib/python3.9/site-packages (from matplotlib->bioinfokit) (1.3.1)\n",
      "Requirement already satisfied: python-dateutil>=2.7 in ./opt/anaconda3/lib/python3.9/site-packages (from matplotlib->bioinfokit) (2.8.2)\n",
      "Requirement already satisfied: six in ./opt/anaconda3/lib/python3.9/site-packages (from cycler>=0.10->matplotlib->bioinfokit) (1.16.0)\n",
      "Requirement already satisfied: pytz>=2017.3 in ./opt/anaconda3/lib/python3.9/site-packages (from pandas->bioinfokit) (2021.3)\n",
      "Requirement already satisfied: threadpoolctl>=2.0.0 in ./opt/anaconda3/lib/python3.9/site-packages (from scikit-learn->bioinfokit) (2.2.0)\n",
      "Requirement already satisfied: joblib>=0.11 in ./opt/anaconda3/lib/python3.9/site-packages (from scikit-learn->bioinfokit) (1.1.0)\n",
      "Requirement already satisfied: patsy>=0.5 in ./opt/anaconda3/lib/python3.9/site-packages (from statsmodels->bioinfokit) (0.5.2)\n",
      "Note: you may need to restart the kernel to use updated packages.\n"
     ]
    }
   ],
   "source": [
    "pip install bioinfokit"
   ]
  },
  {
   "cell_type": "code",
   "execution_count": 12,
   "id": "3a2ce3f6",
   "metadata": {},
   "outputs": [
    {
     "name": "stdout",
     "output_type": "stream",
     "text": [
      "Collecting pyteomics\n",
      "  Downloading pyteomics-4.5.3-py2.py3-none-any.whl (228 kB)\n",
      "\u001b[K     |████████████████████████████████| 228 kB 1.2 MB/s eta 0:00:01\n",
      "\u001b[?25hInstalling collected packages: pyteomics\n",
      "Successfully installed pyteomics-4.5.3\n",
      "Note: you may need to restart the kernel to use updated packages.\n"
     ]
    }
   ],
   "source": [
    "pip install pyteomics"
   ]
  },
  {
   "cell_type": "code",
   "execution_count": 14,
   "id": "c02e2d7a",
   "metadata": {},
   "outputs": [],
   "source": [
    "import os\n",
    "from urllib.request import urlretrieve\n",
    "import gzip\n",
    "import matplotlib.pyplot as plt\n",
    "import numpy as np\n",
    "from pyteomics import fasta, parser, mass, achrom, electrochem, auxiliary\n"
   ]
  },
  {
   "cell_type": "code",
   "execution_count": 103,
   "id": "2377d731",
   "metadata": {},
   "outputs": [
    {
     "ename": "SyntaxError",
     "evalue": "invalid syntax (1454627081.py, line 1)",
     "output_type": "error",
     "traceback": [
      "\u001b[0;36m  File \u001b[0;32m\"/var/folders/qq/w97_pqdd3hx5pdkrv_l2fvn80000gn/T/ipykernel_94778/1454627081.py\"\u001b[0;36m, line \u001b[0;32m1\u001b[0m\n\u001b[0;31m    ruby -e 'first_line = true; while line = STDIN.gets; line.chomp!; if line =~ /^>/; puts unless first_line; print line[1..-1]; print \",\"; else; print line; end; first_line = false; end; puts' < rcsb_pdb_1ALU.fasta\u001b[0m\n\u001b[0m            ^\u001b[0m\n\u001b[0;31mSyntaxError\u001b[0m\u001b[0;31m:\u001b[0m invalid syntax\n"
     ]
    }
   ],
   "source": []
  },
  {
   "cell_type": "code",
   "execution_count": 105,
   "id": "b2956ed3",
   "metadata": {},
   "outputs": [
    {
     "ename": "AttributeError",
     "evalue": "'DataFrame' object has no attribute 'as_matrix'",
     "output_type": "error",
     "traceback": [
      "\u001b[0;31m---------------------------------------------------------------------------\u001b[0m",
      "\u001b[0;31mAttributeError\u001b[0m                            Traceback (most recent call last)",
      "\u001b[0;32m/var/folders/qq/w97_pqdd3hx5pdkrv_l2fvn80000gn/T/ipykernel_94778/771985691.py\u001b[0m in \u001b[0;36m<module>\u001b[0;34m\u001b[0m\n\u001b[1;32m      5\u001b[0m \u001b[0mshort_cols\u001b[0m \u001b[0;34m=\u001b[0m \u001b[0;34m[\u001b[0m\u001b[0mcol\u001b[0m\u001b[0;34m[\u001b[0m\u001b[0;36m0\u001b[0m\u001b[0;34m:\u001b[0m\u001b[0;36m20\u001b[0m\u001b[0;34m]\u001b[0m \u001b[0;32mfor\u001b[0m \u001b[0mcol\u001b[0m \u001b[0;32min\u001b[0m \u001b[0mcols\u001b[0m\u001b[0;34m]\u001b[0m\u001b[0;34m\u001b[0m\u001b[0;34m\u001b[0m\u001b[0m\n\u001b[1;32m      6\u001b[0m \u001b[0mshort_cols\u001b[0m \u001b[0;34m=\u001b[0m \u001b[0;34m[\u001b[0m\u001b[0mshort_cols\u001b[0m\u001b[0;34m[\u001b[0m\u001b[0mi\u001b[0m\u001b[0;34m]\u001b[0m \u001b[0;34m+\u001b[0m \u001b[0mstr\u001b[0m\u001b[0;34m(\u001b[0m\u001b[0mi\u001b[0m\u001b[0;34m)\u001b[0m \u001b[0;32mfor\u001b[0m \u001b[0mi\u001b[0m \u001b[0;32min\u001b[0m \u001b[0mrange\u001b[0m\u001b[0;34m(\u001b[0m\u001b[0;36m1\u001b[0m\u001b[0;34m,\u001b[0m\u001b[0mlen\u001b[0m\u001b[0;34m(\u001b[0m\u001b[0mshort_cols\u001b[0m\u001b[0;34m)\u001b[0m\u001b[0;34m,\u001b[0m\u001b[0;36m1\u001b[0m\u001b[0;34m)\u001b[0m\u001b[0;34m]\u001b[0m\u001b[0;34m\u001b[0m\u001b[0;34m\u001b[0m\u001b[0m\n\u001b[0;32m----> 7\u001b[0;31m \u001b[0mdata_dist\u001b[0m \u001b[0;34m=\u001b[0m \u001b[0mpdist\u001b[0m\u001b[0;34m(\u001b[0m\u001b[0mdf\u001b[0m\u001b[0;34m[\u001b[0m\u001b[0mcols\u001b[0m\u001b[0;34m]\u001b[0m\u001b[0;34m.\u001b[0m\u001b[0mas_matrix\u001b[0m\u001b[0;34m(\u001b[0m\u001b[0;34m)\u001b[0m\u001b[0;34m.\u001b[0m\u001b[0mtranspose\u001b[0m\u001b[0;34m(\u001b[0m\u001b[0;34m)\u001b[0m\u001b[0;34m)\u001b[0m\u001b[0;34m\u001b[0m\u001b[0;34m\u001b[0m\u001b[0m\n\u001b[0m\u001b[1;32m      8\u001b[0m \u001b[0;34m\u001b[0m\u001b[0m\n\u001b[1;32m      9\u001b[0m data = Data([\n",
      "\u001b[0;32m~/opt/anaconda3/lib/python3.9/site-packages/pandas/core/generic.py\u001b[0m in \u001b[0;36m__getattr__\u001b[0;34m(self, name)\u001b[0m\n\u001b[1;32m   5485\u001b[0m         ):\n\u001b[1;32m   5486\u001b[0m             \u001b[0;32mreturn\u001b[0m \u001b[0mself\u001b[0m\u001b[0;34m[\u001b[0m\u001b[0mname\u001b[0m\u001b[0;34m]\u001b[0m\u001b[0;34m\u001b[0m\u001b[0;34m\u001b[0m\u001b[0m\n\u001b[0;32m-> 5487\u001b[0;31m         \u001b[0;32mreturn\u001b[0m \u001b[0mobject\u001b[0m\u001b[0;34m.\u001b[0m\u001b[0m__getattribute__\u001b[0m\u001b[0;34m(\u001b[0m\u001b[0mself\u001b[0m\u001b[0;34m,\u001b[0m \u001b[0mname\u001b[0m\u001b[0;34m)\u001b[0m\u001b[0;34m\u001b[0m\u001b[0;34m\u001b[0m\u001b[0m\n\u001b[0m\u001b[1;32m   5488\u001b[0m \u001b[0;34m\u001b[0m\u001b[0m\n\u001b[1;32m   5489\u001b[0m     \u001b[0;32mdef\u001b[0m \u001b[0m__setattr__\u001b[0m\u001b[0;34m(\u001b[0m\u001b[0mself\u001b[0m\u001b[0;34m,\u001b[0m \u001b[0mname\u001b[0m\u001b[0;34m:\u001b[0m \u001b[0mstr\u001b[0m\u001b[0;34m,\u001b[0m \u001b[0mvalue\u001b[0m\u001b[0;34m)\u001b[0m \u001b[0;34m->\u001b[0m \u001b[0;32mNone\u001b[0m\u001b[0;34m:\u001b[0m\u001b[0;34m\u001b[0m\u001b[0;34m\u001b[0m\u001b[0m\n",
      "\u001b[0;31mAttributeError\u001b[0m: 'DataFrame' object has no attribute 'as_matrix'"
     ]
    }
   ],
   "source": [
    "from scipy.spatial.distance import pdist, squareform\n",
    "df = pd.DataFrame()\n",
    "df.head()\n",
    "cols = [col for col in df.columns if col not in ['rcsb_pdb_1ALU.csv', 'csb_pdb_2L3Y.csv']]\n",
    "short_cols = [col[0:20] for col in cols]\n",
    "short_cols = [short_cols[i] + str(i) for i in range(1,len(short_cols),1)]\n",
    "data_dist = pdist(df[cols].as_matrix().transpose())\n",
    "\n",
    "data = Data([\n",
    "    Heatmap(\n",
    "        z=squareform(data_dist), colorscale='YIGnBu',\n",
    "        x=short_cols,\n",
    "        y=short_cols,     # y-axis labels\n",
    "    )\n",
    "])\n",
    "\n",
    "layout = Layout(\n",
    "    title='Transcription profiling of human brain samples',\n",
    "    autosize=False,\n",
    "    margin=Margin(\n",
    "        l=200,\n",
    "        b=200,\n",
    "        pad=4\n",
    "    ),\n",
    "    xaxis=XAxis(\n",
    "        showgrid=False, # remove grid\n",
    "        autotick=False, # custom ticks\n",
    "        dtick=1,        # show 1 tick per day\n",
    "    ),\n",
    "    yaxis=YAxis(\n",
    "        showgrid=False,   # remove grid\n",
    "        autotick=False,   # custom ticks\n",
    "        dtick=1           # show 1 tick per day\n",
    "    ),\n",
    ")\n",
    "fig = Figure(data=data, layout=layout)\n",
    "py.iplot(fig, width=900, height=900)"
   ]
  },
  {
   "cell_type": "code",
   "execution_count": 80,
   "id": "dfbf23a0",
   "metadata": {},
   "outputs": [],
   "source": [
    "from Bio.PDB import*\n",
    "import nglview as nv\n"
   ]
  },
  {
   "cell_type": "code",
   "execution_count": 81,
   "id": "0743fada",
   "metadata": {},
   "outputs": [],
   "source": [
    "parser = PDBParser()\n",
    "structure = parser.get_structure(\"model_01\", \"model_01.pdb\")"
   ]
  },
  {
   "cell_type": "code",
   "execution_count": 82,
   "id": "83a3aeee",
   "metadata": {
    "scrolled": true
   },
   "outputs": [
    {
     "data": {
      "application/vnd.jupyter.widget-view+json": {
       "model_id": "2921e0e45e8a40a7ae61ac58880da49f",
       "version_major": 2,
       "version_minor": 0
      },
      "text/plain": [
       "NGLWidget()"
      ]
     },
     "metadata": {},
     "output_type": "display_data"
    }
   ],
   "source": [
    "view = nv.show_biopython(structure)\n",
    "view"
   ]
  },
  {
   "cell_type": "code",
   "execution_count": 83,
   "id": "98541a7a",
   "metadata": {},
   "outputs": [],
   "source": [
    "import ipywidgets"
   ]
  },
  {
   "cell_type": "code",
   "execution_count": 84,
   "id": "6e4fff2a",
   "metadata": {},
   "outputs": [
    {
     "name": "stdout",
     "output_type": "stream",
     "text": [
      "<Residue TYR het=  resseq=25 icode= >\n",
      "<Residue THR het=  resseq=26 icode= >\n",
      "<Residue THR het=  resseq=27 icode= >\n",
      "<Residue SER het=  resseq=28 icode= >\n",
      "<Residue GLN het=  resseq=29 icode= >\n",
      "<Residue VAL het=  resseq=30 icode= >\n",
      "<Residue GLY het=  resseq=31 icode= >\n",
      "<Residue GLY het=  resseq=32 icode= >\n",
      "<Residue LEU het=  resseq=33 icode= >\n",
      "<Residue ILE het=  resseq=34 icode= >\n",
      "<Residue THR het=  resseq=35 icode= >\n",
      "<Residue HIS het=  resseq=36 icode= >\n",
      "<Residue VAL het=  resseq=37 icode= >\n",
      "<Residue LEU het=  resseq=38 icode= >\n",
      "<Residue TRP het=  resseq=39 icode= >\n",
      "<Residue GLU het=  resseq=40 icode= >\n",
      "<Residue ILE het=  resseq=41 icode= >\n",
      "<Residue VAL het=  resseq=42 icode= >\n",
      "<Residue GLU het=  resseq=43 icode= >\n",
      "<Residue MET het=  resseq=44 icode= >\n",
      "<Residue ARG het=  resseq=45 icode= >\n",
      "<Residue LYS het=  resseq=46 icode= >\n",
      "<Residue GLU het=  resseq=47 icode= >\n",
      "<Residue LEU het=  resseq=48 icode= >\n",
      "<Residue CYS het=  resseq=49 icode= >\n",
      "<Residue ASN het=  resseq=50 icode= >\n",
      "<Residue GLY het=  resseq=51 icode= >\n",
      "<Residue ASN het=  resseq=52 icode= >\n",
      "<Residue SER het=  resseq=53 icode= >\n",
      "<Residue ASP het=  resseq=54 icode= >\n",
      "<Residue CYS het=  resseq=55 icode= >\n",
      "<Residue MET het=  resseq=56 icode= >\n",
      "<Residue ASN het=  resseq=57 icode= >\n",
      "<Residue ASN het=  resseq=58 icode= >\n",
      "<Residue ASP het=  resseq=59 icode= >\n",
      "<Residue ASP het=  resseq=60 icode= >\n",
      "<Residue ALA het=  resseq=61 icode= >\n",
      "<Residue LEU het=  resseq=62 icode= >\n",
      "<Residue ALA het=  resseq=63 icode= >\n",
      "<Residue GLU het=  resseq=64 icode= >\n",
      "<Residue ASN het=  resseq=65 icode= >\n",
      "<Residue ASN het=  resseq=66 icode= >\n",
      "<Residue LEU het=  resseq=67 icode= >\n",
      "<Residue LYS het=  resseq=68 icode= >\n",
      "<Residue LEU het=  resseq=69 icode= >\n",
      "<Residue PRO het=  resseq=70 icode= >\n",
      "<Residue GLU het=  resseq=71 icode= >\n",
      "<Residue ILE het=  resseq=72 icode= >\n",
      "<Residue GLN het=  resseq=73 icode= >\n",
      "<Residue ARG het=  resseq=74 icode= >\n",
      "<Residue ASN het=  resseq=75 icode= >\n",
      "<Residue ASP het=  resseq=76 icode= >\n",
      "<Residue GLY het=  resseq=77 icode= >\n",
      "<Residue CYS het=  resseq=78 icode= >\n",
      "<Residue TYR het=  resseq=79 icode= >\n",
      "<Residue GLN het=  resseq=80 icode= >\n",
      "<Residue THR het=  resseq=81 icode= >\n",
      "<Residue GLY het=  resseq=82 icode= >\n",
      "<Residue TYR het=  resseq=83 icode= >\n",
      "<Residue ASN het=  resseq=84 icode= >\n",
      "<Residue GLN het=  resseq=85 icode= >\n",
      "<Residue GLU het=  resseq=86 icode= >\n",
      "<Residue ILE het=  resseq=87 icode= >\n",
      "<Residue CYS het=  resseq=88 icode= >\n",
      "<Residue LEU het=  resseq=89 icode= >\n",
      "<Residue LEU het=  resseq=90 icode= >\n",
      "<Residue LYS het=  resseq=91 icode= >\n",
      "<Residue ILE het=  resseq=92 icode= >\n",
      "<Residue SER het=  resseq=93 icode= >\n",
      "<Residue SER het=  resseq=94 icode= >\n",
      "<Residue GLY het=  resseq=95 icode= >\n",
      "<Residue LEU het=  resseq=96 icode= >\n",
      "<Residue LEU het=  resseq=97 icode= >\n",
      "<Residue GLU het=  resseq=98 icode= >\n",
      "<Residue TYR het=  resseq=99 icode= >\n",
      "<Residue HIS het=  resseq=100 icode= >\n",
      "<Residue SER het=  resseq=101 icode= >\n",
      "<Residue TYR het=  resseq=102 icode= >\n",
      "<Residue LEU het=  resseq=103 icode= >\n",
      "<Residue GLU het=  resseq=104 icode= >\n",
      "<Residue TYR het=  resseq=105 icode= >\n",
      "<Residue MET het=  resseq=106 icode= >\n",
      "<Residue LYS het=  resseq=107 icode= >\n",
      "<Residue ASN het=  resseq=108 icode= >\n",
      "<Residue ASN het=  resseq=109 icode= >\n",
      "<Residue LEU het=  resseq=110 icode= >\n",
      "<Residue LYS het=  resseq=111 icode= >\n",
      "<Residue ASP het=  resseq=112 icode= >\n",
      "<Residue ASN het=  resseq=113 icode= >\n",
      "<Residue LYS het=  resseq=114 icode= >\n",
      "<Residue LYS het=  resseq=115 icode= >\n",
      "<Residue ASP het=  resseq=116 icode= >\n",
      "<Residue LYS het=  resseq=117 icode= >\n",
      "<Residue ALA het=  resseq=118 icode= >\n",
      "<Residue ARG het=  resseq=119 icode= >\n",
      "<Residue VAL het=  resseq=120 icode= >\n",
      "<Residue LEU het=  resseq=121 icode= >\n",
      "<Residue GLN het=  resseq=122 icode= >\n",
      "<Residue ARG het=  resseq=123 icode= >\n",
      "<Residue ASP het=  resseq=124 icode= >\n",
      "<Residue THR het=  resseq=125 icode= >\n",
      "<Residue GLU het=  resseq=126 icode= >\n",
      "<Residue THR het=  resseq=127 icode= >\n",
      "<Residue LEU het=  resseq=128 icode= >\n",
      "<Residue ILE het=  resseq=129 icode= >\n",
      "<Residue HIS het=  resseq=130 icode= >\n",
      "<Residue ILE het=  resseq=131 icode= >\n",
      "<Residue PHE het=  resseq=132 icode= >\n",
      "<Residue ASN het=  resseq=133 icode= >\n",
      "<Residue GLN het=  resseq=134 icode= >\n",
      "<Residue GLU het=  resseq=135 icode= >\n",
      "<Residue VAL het=  resseq=136 icode= >\n",
      "<Residue LYS het=  resseq=137 icode= >\n",
      "<Residue ASP het=  resseq=138 icode= >\n",
      "<Residue LEU het=  resseq=139 icode= >\n",
      "<Residue HIS het=  resseq=140 icode= >\n",
      "<Residue LYS het=  resseq=141 icode= >\n",
      "<Residue ILE het=  resseq=142 icode= >\n",
      "<Residue VAL het=  resseq=143 icode= >\n",
      "<Residue LEU het=  resseq=144 icode= >\n",
      "<Residue PRO het=  resseq=145 icode= >\n",
      "<Residue THR het=  resseq=146 icode= >\n",
      "<Residue PRO het=  resseq=147 icode= >\n",
      "<Residue ILE het=  resseq=148 icode= >\n",
      "<Residue SER het=  resseq=149 icode= >\n",
      "<Residue ASN het=  resseq=150 icode= >\n",
      "<Residue ALA het=  resseq=151 icode= >\n",
      "<Residue LEU het=  resseq=152 icode= >\n",
      "<Residue LEU het=  resseq=153 icode= >\n",
      "<Residue THR het=  resseq=154 icode= >\n",
      "<Residue ASP het=  resseq=155 icode= >\n",
      "<Residue LYS het=  resseq=156 icode= >\n",
      "<Residue LEU het=  resseq=157 icode= >\n",
      "<Residue GLU het=  resseq=158 icode= >\n",
      "<Residue SER het=  resseq=159 icode= >\n",
      "<Residue GLN het=  resseq=160 icode= >\n",
      "<Residue LYS het=  resseq=161 icode= >\n",
      "<Residue GLU het=  resseq=162 icode= >\n",
      "<Residue TRP het=  resseq=163 icode= >\n",
      "<Residue LEU het=  resseq=164 icode= >\n",
      "<Residue ARG het=  resseq=165 icode= >\n",
      "<Residue THR het=  resseq=166 icode= >\n",
      "<Residue LYS het=  resseq=167 icode= >\n",
      "<Residue THR het=  resseq=168 icode= >\n",
      "<Residue ILE het=  resseq=169 icode= >\n",
      "<Residue GLN het=  resseq=170 icode= >\n",
      "<Residue PHE het=  resseq=171 icode= >\n",
      "<Residue ILE het=  resseq=172 icode= >\n",
      "<Residue LEU het=  resseq=173 icode= >\n",
      "<Residue LYS het=  resseq=174 icode= >\n",
      "<Residue SER het=  resseq=175 icode= >\n",
      "<Residue LEU het=  resseq=176 icode= >\n",
      "<Residue GLU het=  resseq=177 icode= >\n",
      "<Residue GLU het=  resseq=178 icode= >\n",
      "<Residue PHE het=  resseq=179 icode= >\n",
      "<Residue LEU het=  resseq=180 icode= >\n",
      "<Residue LYS het=  resseq=181 icode= >\n",
      "<Residue VAL het=  resseq=182 icode= >\n",
      "<Residue THR het=  resseq=183 icode= >\n",
      "<Residue LEU het=  resseq=184 icode= >\n",
      "<Residue ARG het=  resseq=185 icode= >\n",
      "<Residue SER het=  resseq=186 icode= >\n",
      "<Residue THR het=  resseq=187 icode= >\n",
      "<Residue ARG het=  resseq=188 icode= >\n",
      "<Residue GLN het=  resseq=189 icode= >\n",
      "<Residue THR het=  resseq=190 icode= >\n"
     ]
    },
    {
     "data": {
      "text/plain": [
       "[<Residue TYR het=  resseq=25 icode= >,\n",
       " <Residue THR het=  resseq=26 icode= >,\n",
       " <Residue THR het=  resseq=27 icode= >,\n",
       " <Residue SER het=  resseq=28 icode= >,\n",
       " <Residue GLN het=  resseq=29 icode= >,\n",
       " <Residue VAL het=  resseq=30 icode= >,\n",
       " <Residue GLY het=  resseq=31 icode= >,\n",
       " <Residue GLY het=  resseq=32 icode= >,\n",
       " <Residue LEU het=  resseq=33 icode= >,\n",
       " <Residue ILE het=  resseq=34 icode= >,\n",
       " <Residue THR het=  resseq=35 icode= >,\n",
       " <Residue HIS het=  resseq=36 icode= >,\n",
       " <Residue VAL het=  resseq=37 icode= >,\n",
       " <Residue LEU het=  resseq=38 icode= >,\n",
       " <Residue TRP het=  resseq=39 icode= >,\n",
       " <Residue GLU het=  resseq=40 icode= >,\n",
       " <Residue ILE het=  resseq=41 icode= >,\n",
       " <Residue VAL het=  resseq=42 icode= >,\n",
       " <Residue GLU het=  resseq=43 icode= >,\n",
       " <Residue MET het=  resseq=44 icode= >,\n",
       " <Residue ARG het=  resseq=45 icode= >,\n",
       " <Residue LYS het=  resseq=46 icode= >,\n",
       " <Residue GLU het=  resseq=47 icode= >,\n",
       " <Residue LEU het=  resseq=48 icode= >,\n",
       " <Residue CYS het=  resseq=49 icode= >,\n",
       " <Residue ASN het=  resseq=50 icode= >,\n",
       " <Residue GLY het=  resseq=51 icode= >,\n",
       " <Residue ASN het=  resseq=52 icode= >,\n",
       " <Residue SER het=  resseq=53 icode= >,\n",
       " <Residue ASP het=  resseq=54 icode= >,\n",
       " <Residue CYS het=  resseq=55 icode= >,\n",
       " <Residue MET het=  resseq=56 icode= >,\n",
       " <Residue ASN het=  resseq=57 icode= >,\n",
       " <Residue ASN het=  resseq=58 icode= >,\n",
       " <Residue ASP het=  resseq=59 icode= >,\n",
       " <Residue ASP het=  resseq=60 icode= >,\n",
       " <Residue ALA het=  resseq=61 icode= >,\n",
       " <Residue LEU het=  resseq=62 icode= >,\n",
       " <Residue ALA het=  resseq=63 icode= >,\n",
       " <Residue GLU het=  resseq=64 icode= >,\n",
       " <Residue ASN het=  resseq=65 icode= >,\n",
       " <Residue ASN het=  resseq=66 icode= >,\n",
       " <Residue LEU het=  resseq=67 icode= >,\n",
       " <Residue LYS het=  resseq=68 icode= >,\n",
       " <Residue LEU het=  resseq=69 icode= >,\n",
       " <Residue PRO het=  resseq=70 icode= >,\n",
       " <Residue GLU het=  resseq=71 icode= >,\n",
       " <Residue ILE het=  resseq=72 icode= >,\n",
       " <Residue GLN het=  resseq=73 icode= >,\n",
       " <Residue ARG het=  resseq=74 icode= >,\n",
       " <Residue ASN het=  resseq=75 icode= >,\n",
       " <Residue ASP het=  resseq=76 icode= >,\n",
       " <Residue GLY het=  resseq=77 icode= >,\n",
       " <Residue CYS het=  resseq=78 icode= >,\n",
       " <Residue TYR het=  resseq=79 icode= >,\n",
       " <Residue GLN het=  resseq=80 icode= >,\n",
       " <Residue THR het=  resseq=81 icode= >,\n",
       " <Residue GLY het=  resseq=82 icode= >,\n",
       " <Residue TYR het=  resseq=83 icode= >,\n",
       " <Residue ASN het=  resseq=84 icode= >,\n",
       " <Residue GLN het=  resseq=85 icode= >,\n",
       " <Residue GLU het=  resseq=86 icode= >,\n",
       " <Residue ILE het=  resseq=87 icode= >,\n",
       " <Residue CYS het=  resseq=88 icode= >,\n",
       " <Residue LEU het=  resseq=89 icode= >,\n",
       " <Residue LEU het=  resseq=90 icode= >,\n",
       " <Residue LYS het=  resseq=91 icode= >,\n",
       " <Residue ILE het=  resseq=92 icode= >,\n",
       " <Residue SER het=  resseq=93 icode= >,\n",
       " <Residue SER het=  resseq=94 icode= >,\n",
       " <Residue GLY het=  resseq=95 icode= >,\n",
       " <Residue LEU het=  resseq=96 icode= >,\n",
       " <Residue LEU het=  resseq=97 icode= >,\n",
       " <Residue GLU het=  resseq=98 icode= >,\n",
       " <Residue TYR het=  resseq=99 icode= >,\n",
       " <Residue HIS het=  resseq=100 icode= >,\n",
       " <Residue SER het=  resseq=101 icode= >,\n",
       " <Residue TYR het=  resseq=102 icode= >,\n",
       " <Residue LEU het=  resseq=103 icode= >,\n",
       " <Residue GLU het=  resseq=104 icode= >,\n",
       " <Residue TYR het=  resseq=105 icode= >,\n",
       " <Residue MET het=  resseq=106 icode= >,\n",
       " <Residue LYS het=  resseq=107 icode= >,\n",
       " <Residue ASN het=  resseq=108 icode= >,\n",
       " <Residue ASN het=  resseq=109 icode= >,\n",
       " <Residue LEU het=  resseq=110 icode= >,\n",
       " <Residue LYS het=  resseq=111 icode= >,\n",
       " <Residue ASP het=  resseq=112 icode= >,\n",
       " <Residue ASN het=  resseq=113 icode= >,\n",
       " <Residue LYS het=  resseq=114 icode= >,\n",
       " <Residue LYS het=  resseq=115 icode= >,\n",
       " <Residue ASP het=  resseq=116 icode= >,\n",
       " <Residue LYS het=  resseq=117 icode= >,\n",
       " <Residue ALA het=  resseq=118 icode= >,\n",
       " <Residue ARG het=  resseq=119 icode= >,\n",
       " <Residue VAL het=  resseq=120 icode= >,\n",
       " <Residue LEU het=  resseq=121 icode= >,\n",
       " <Residue GLN het=  resseq=122 icode= >,\n",
       " <Residue ARG het=  resseq=123 icode= >,\n",
       " <Residue ASP het=  resseq=124 icode= >,\n",
       " <Residue THR het=  resseq=125 icode= >,\n",
       " <Residue GLU het=  resseq=126 icode= >,\n",
       " <Residue THR het=  resseq=127 icode= >,\n",
       " <Residue LEU het=  resseq=128 icode= >,\n",
       " <Residue ILE het=  resseq=129 icode= >,\n",
       " <Residue HIS het=  resseq=130 icode= >,\n",
       " <Residue ILE het=  resseq=131 icode= >,\n",
       " <Residue PHE het=  resseq=132 icode= >,\n",
       " <Residue ASN het=  resseq=133 icode= >,\n",
       " <Residue GLN het=  resseq=134 icode= >,\n",
       " <Residue GLU het=  resseq=135 icode= >,\n",
       " <Residue VAL het=  resseq=136 icode= >,\n",
       " <Residue LYS het=  resseq=137 icode= >,\n",
       " <Residue ASP het=  resseq=138 icode= >,\n",
       " <Residue LEU het=  resseq=139 icode= >,\n",
       " <Residue HIS het=  resseq=140 icode= >,\n",
       " <Residue LYS het=  resseq=141 icode= >,\n",
       " <Residue ILE het=  resseq=142 icode= >,\n",
       " <Residue VAL het=  resseq=143 icode= >,\n",
       " <Residue LEU het=  resseq=144 icode= >,\n",
       " <Residue PRO het=  resseq=145 icode= >,\n",
       " <Residue THR het=  resseq=146 icode= >,\n",
       " <Residue PRO het=  resseq=147 icode= >,\n",
       " <Residue ILE het=  resseq=148 icode= >,\n",
       " <Residue SER het=  resseq=149 icode= >,\n",
       " <Residue ASN het=  resseq=150 icode= >,\n",
       " <Residue ALA het=  resseq=151 icode= >,\n",
       " <Residue LEU het=  resseq=152 icode= >,\n",
       " <Residue LEU het=  resseq=153 icode= >,\n",
       " <Residue THR het=  resseq=154 icode= >,\n",
       " <Residue ASP het=  resseq=155 icode= >,\n",
       " <Residue LYS het=  resseq=156 icode= >,\n",
       " <Residue LEU het=  resseq=157 icode= >,\n",
       " <Residue GLU het=  resseq=158 icode= >,\n",
       " <Residue SER het=  resseq=159 icode= >,\n",
       " <Residue GLN het=  resseq=160 icode= >,\n",
       " <Residue LYS het=  resseq=161 icode= >,\n",
       " <Residue GLU het=  resseq=162 icode= >,\n",
       " <Residue TRP het=  resseq=163 icode= >,\n",
       " <Residue LEU het=  resseq=164 icode= >,\n",
       " <Residue ARG het=  resseq=165 icode= >,\n",
       " <Residue THR het=  resseq=166 icode= >,\n",
       " <Residue LYS het=  resseq=167 icode= >,\n",
       " <Residue THR het=  resseq=168 icode= >,\n",
       " <Residue ILE het=  resseq=169 icode= >,\n",
       " <Residue GLN het=  resseq=170 icode= >,\n",
       " <Residue PHE het=  resseq=171 icode= >,\n",
       " <Residue ILE het=  resseq=172 icode= >,\n",
       " <Residue LEU het=  resseq=173 icode= >,\n",
       " <Residue LYS het=  resseq=174 icode= >,\n",
       " <Residue SER het=  resseq=175 icode= >,\n",
       " <Residue LEU het=  resseq=176 icode= >,\n",
       " <Residue GLU het=  resseq=177 icode= >,\n",
       " <Residue GLU het=  resseq=178 icode= >,\n",
       " <Residue PHE het=  resseq=179 icode= >,\n",
       " <Residue LEU het=  resseq=180 icode= >,\n",
       " <Residue LYS het=  resseq=181 icode= >,\n",
       " <Residue VAL het=  resseq=182 icode= >,\n",
       " <Residue THR het=  resseq=183 icode= >,\n",
       " <Residue LEU het=  resseq=184 icode= >,\n",
       " <Residue ARG het=  resseq=185 icode= >,\n",
       " <Residue SER het=  resseq=186 icode= >,\n",
       " <Residue THR het=  resseq=187 icode= >,\n",
       " <Residue ARG het=  resseq=188 icode= >,\n",
       " <Residue GLN het=  resseq=189 icode= >,\n",
       " <Residue THR het=  resseq=190 icode= >]"
      ]
     },
     "execution_count": 84,
     "metadata": {},
     "output_type": "execute_result"
    }
   ],
   "source": [
    "# .get_residues() method in a loop\n",
    "for model in structure:\n",
    "    for residue in model.get_residues():\n",
    "        print(residue)\n",
    "# .get_residues() method as generator object\n",
    "residues = structure.get_residues() # returns a generator object\n",
    "[item for item in residues]\n",
    "# .unfold_entities - keyword for each level of the SMCRA structure\n",
    "Selection.unfold_entities(structure, \"R\") # R is for residues"
   ]
  },
  {
   "cell_type": "code",
   "execution_count": 85,
   "id": "b3648537",
   "metadata": {},
   "outputs": [
    {
     "name": "stdout",
     "output_type": "stream",
     "text": [
      "Sequence: 1, Length: 166\n",
      "YTTSQVGGLITHVLWEIVEMRKELCNGNSDCMNNDDALAENNLKLPEIQRNDGCYQTGYNQEICLLKISSGLLEYHSYLEYMKNNLKDNKKDKARVLQRDTETLIHIFNQEVKDLHKIVLPTPISNALLTDKLESQKEWLRTKTIQFILKSLEEFLKVTLRSTRQT\n"
     ]
    }
   ],
   "source": [
    "polypeptide_builder = CaPPBuilder()\n",
    "counter = 1\n",
    "for polypeptide in polypeptide_builder.build_peptides(structure):\n",
    "    seq = polypeptide.get_sequence()\n",
    "    print(f\"Sequence: {counter}, Length: {len(seq)}\")\n",
    "    print(seq)\n",
    "    counter += 1"
   ]
  },
  {
   "cell_type": "code",
   "execution_count": 86,
   "id": "9e428465",
   "metadata": {},
   "outputs": [],
   "source": [
    "from Bio.SeqUtils.ProtParam import ProteinAnalysis\n"
   ]
  },
  {
   "cell_type": "code",
   "execution_count": 87,
   "id": "12f359b4",
   "metadata": {},
   "outputs": [],
   "source": [
    "analyzed_seq = ProteinAnalysis(str(seq))\n"
   ]
  },
  {
   "cell_type": "code",
   "execution_count": 88,
   "id": "fd36e57b",
   "metadata": {},
   "outputs": [
    {
     "data": {
      "text/plain": [
       "19331.92050000001"
      ]
     },
     "execution_count": 88,
     "metadata": {},
     "output_type": "execute_result"
    }
   ],
   "source": [
    "analyzed_seq.molecular_weight()"
   ]
  },
  {
   "cell_type": "code",
   "execution_count": 89,
   "id": "50feaf10",
   "metadata": {},
   "outputs": [
    {
     "data": {
      "text/plain": [
       "-0.55421686746988"
      ]
     },
     "execution_count": 89,
     "metadata": {},
     "output_type": "execute_result"
    }
   ],
   "source": [
    "analyzed_seq.gravy()"
   ]
  },
  {
   "cell_type": "code",
   "execution_count": 90,
   "id": "d6ae2d84",
   "metadata": {},
   "outputs": [
    {
     "data": {
      "text/plain": [
       "{'A': 4,\n",
       " 'C': 4,\n",
       " 'D': 9,\n",
       " 'E': 14,\n",
       " 'F': 3,\n",
       " 'G': 6,\n",
       " 'H': 4,\n",
       " 'I': 11,\n",
       " 'K': 15,\n",
       " 'L': 24,\n",
       " 'M': 3,\n",
       " 'N': 13,\n",
       " 'P': 3,\n",
       " 'Q': 9,\n",
       " 'R': 7,\n",
       " 'S': 9,\n",
       " 'T': 13,\n",
       " 'V': 7,\n",
       " 'W': 2,\n",
       " 'Y': 6}"
      ]
     },
     "execution_count": 90,
     "metadata": {},
     "output_type": "execute_result"
    }
   ],
   "source": [
    "analyzed_seq.count_amino_acids()"
   ]
  },
  {
   "cell_type": "code",
   "execution_count": 91,
   "id": "7b08efad",
   "metadata": {},
   "outputs": [
    {
     "data": {
      "text/plain": [
       "{'A': 0.024096385542168676,\n",
       " 'C': 0.024096385542168676,\n",
       " 'D': 0.05421686746987952,\n",
       " 'E': 0.08433734939759036,\n",
       " 'F': 0.018072289156626505,\n",
       " 'G': 0.03614457831325301,\n",
       " 'H': 0.024096385542168676,\n",
       " 'I': 0.06626506024096386,\n",
       " 'K': 0.09036144578313253,\n",
       " 'L': 0.14457831325301204,\n",
       " 'M': 0.018072289156626505,\n",
       " 'N': 0.0783132530120482,\n",
       " 'P': 0.018072289156626505,\n",
       " 'Q': 0.05421686746987952,\n",
       " 'R': 0.04216867469879518,\n",
       " 'S': 0.05421686746987952,\n",
       " 'T': 0.0783132530120482,\n",
       " 'V': 0.04216867469879518,\n",
       " 'W': 0.012048192771084338,\n",
       " 'Y': 0.03614457831325301}"
      ]
     },
     "execution_count": 91,
     "metadata": {},
     "output_type": "execute_result"
    }
   ],
   "source": [
    "analyzed_seq.get_amino_acids_percent()"
   ]
  },
  {
   "cell_type": "code",
   "execution_count": 92,
   "id": "a78ed58a",
   "metadata": {},
   "outputs": [
    {
     "data": {
      "application/vnd.jupyter.widget-view+json": {
       "model_id": "6f9f2300933044f28c4dc40a668e47ca",
       "version_major": 2,
       "version_minor": 0
      },
      "text/plain": [
       "NGLWidget()"
      ]
     },
     "metadata": {},
     "output_type": "display_data"
    }
   ],
   "source": [
    "parser = PDBParser()\n",
    "structure_2 = parser.get_structure(\"1alu.1.pdb\", \"1alu.1.pdb\")\n",
    "view = nv.show_biopython(structure_2)\n",
    "view"
   ]
  },
  {
   "cell_type": "code",
   "execution_count": 93,
   "id": "036398ab",
   "metadata": {},
   "outputs": [
    {
     "name": "stdout",
     "output_type": "stream",
     "text": [
      "Sequence: 1, Length: 33\n",
      "LTSSERIDKQIRYILDGISALRKETCNKSNMCE\n",
      "Sequence: 2, Length: 124\n",
      "NLNLPKMAEKDGCFQSGFNEETCLVKIITGLLEFEVYLEYLQNRFESSEEQARAVQMSTKVLIQFLQKKAKNLDAITTPDPTTNASLLTKLQAQNQWLQDMTTHLILRSFKEFLQSSLRALRQM\n",
      "Sequence: 3, Length: 33\n",
      "LTSSERIDKQIRYILDGISALRKETCNKSNMCE\n",
      "Sequence: 4, Length: 124\n",
      "NLNLPKMAEKDGCFQSGFNEETCLVKIITGLLEFEVYLEYLQNRFESSEEQARAVQMSTKVLIQFLQKKAKNLDAITTPDPTTNASLLTKLQAQNQWLQDMTTHLILRSFKEFLQSSLRALRQM\n"
     ]
    }
   ],
   "source": [
    "polypeptide_builder = CaPPBuilder()\n",
    "counter = 1\n",
    "for polypeptide in polypeptide_builder.build_peptides(structure_2):\n",
    "    seq_2 = polypeptide.get_sequence()\n",
    "    print(f\"Sequence: {counter}, Length: {len(seq_2)}\")\n",
    "    print(seq_2)\n",
    "    counter += 1"
   ]
  },
  {
   "cell_type": "code",
   "execution_count": 94,
   "id": "bd17d952",
   "metadata": {},
   "outputs": [],
   "source": [
    "analyzed_seq = ProteinAnalysis(str(seq_2))"
   ]
  },
  {
   "cell_type": "code",
   "execution_count": 95,
   "id": "fe86b4ee",
   "metadata": {},
   "outputs": [
    {
     "data": {
      "text/plain": [
       "14302.321199999977"
      ]
     },
     "execution_count": 95,
     "metadata": {},
     "output_type": "execute_result"
    }
   ],
   "source": [
    "analyzed_seq.molecular_weight()"
   ]
  },
  {
   "cell_type": "code",
   "execution_count": 96,
   "id": "9b59c4e9",
   "metadata": {},
   "outputs": [
    {
     "data": {
      "text/plain": [
       "-0.3314516129032259"
      ]
     },
     "execution_count": 96,
     "metadata": {},
     "output_type": "execute_result"
    }
   ],
   "source": [
    "analyzed_seq.gravy()"
   ]
  },
  {
   "cell_type": "code",
   "execution_count": 97,
   "id": "62526803",
   "metadata": {},
   "outputs": [
    {
     "data": {
      "text/plain": [
       "{'A': 8,\n",
       " 'C': 2,\n",
       " 'D': 4,\n",
       " 'E': 10,\n",
       " 'F': 7,\n",
       " 'G': 3,\n",
       " 'H': 1,\n",
       " 'I': 5,\n",
       " 'K': 9,\n",
       " 'L': 19,\n",
       " 'M': 4,\n",
       " 'N': 7,\n",
       " 'P': 3,\n",
       " 'Q': 12,\n",
       " 'R': 5,\n",
       " 'S': 8,\n",
       " 'T': 10,\n",
       " 'V': 4,\n",
       " 'W': 1,\n",
       " 'Y': 2}"
      ]
     },
     "execution_count": 97,
     "metadata": {},
     "output_type": "execute_result"
    }
   ],
   "source": [
    "analyzed_seq.count_amino_acids()"
   ]
  },
  {
   "cell_type": "code",
   "execution_count": 98,
   "id": "cc7f7a99",
   "metadata": {},
   "outputs": [
    {
     "data": {
      "text/plain": [
       "{'A': 0.06451612903225806,\n",
       " 'C': 0.016129032258064516,\n",
       " 'D': 0.03225806451612903,\n",
       " 'E': 0.08064516129032258,\n",
       " 'F': 0.056451612903225805,\n",
       " 'G': 0.024193548387096774,\n",
       " 'H': 0.008064516129032258,\n",
       " 'I': 0.04032258064516129,\n",
       " 'K': 0.07258064516129033,\n",
       " 'L': 0.1532258064516129,\n",
       " 'M': 0.03225806451612903,\n",
       " 'N': 0.056451612903225805,\n",
       " 'P': 0.024193548387096774,\n",
       " 'Q': 0.0967741935483871,\n",
       " 'R': 0.04032258064516129,\n",
       " 'S': 0.06451612903225806,\n",
       " 'T': 0.08064516129032258,\n",
       " 'V': 0.03225806451612903,\n",
       " 'W': 0.008064516129032258,\n",
       " 'Y': 0.016129032258064516}"
      ]
     },
     "execution_count": 98,
     "metadata": {},
     "output_type": "execute_result"
    }
   ],
   "source": [
    "analyzed_seq.get_amino_acids_percent()"
   ]
  },
  {
   "cell_type": "markdown",
   "id": "b8d46a55",
   "metadata": {},
   "source": [
    "Analysis: My conjecture is currently rejected by me because the code run of heatmap failed, so it is not possible to visualize the difference in rna seq between human and mouse il6. But the 3d structure map can be very intuitive that they have a big difference between their structure. The human il6 has two extra binding legands in the middle, which might be the reason for the inability to bind to NCTC 11659. The numbers of amino acid of human IL6 and mice IL6 are not similar. \n",
    "\n"
   ]
  },
  {
   "cell_type": "code",
   "execution_count": null,
   "id": "89931f16",
   "metadata": {},
   "outputs": [],
   "source": []
  }
 ],
 "metadata": {
  "kernelspec": {
   "display_name": "Python 3 (ipykernel)",
   "language": "python",
   "name": "python3"
  },
  "language_info": {
   "codemirror_mode": {
    "name": "ipython",
    "version": 3
   },
   "file_extension": ".py",
   "mimetype": "text/x-python",
   "name": "python",
   "nbconvert_exporter": "python",
   "pygments_lexer": "ipython3",
   "version": "3.9.7"
  }
 },
 "nbformat": 4,
 "nbformat_minor": 5
}
